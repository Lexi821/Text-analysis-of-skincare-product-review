{
  "nbformat": 4,
  "nbformat_minor": 0,
  "metadata": {
    "colab": {
      "provenance": []
    },
    "kernelspec": {
      "name": "python3",
      "display_name": "Python 3"
    },
    "language_info": {
      "name": "python"
    }
  },
  "cells": [
    {
      "cell_type": "code",
      "execution_count": 9,
      "metadata": {
        "id": "ufQEtpNaLt1F"
      },
      "outputs": [],
      "source": [
        "from gensim.models.word2vec import Word2Vec"
      ]
    },
    {
      "cell_type": "code",
      "source": [
        "import re\n",
        "from sklearn import feature_extraction\n",
        "stop_words = feature_extraction.text.ENGLISH_STOP_WORDS\n",
        "import nltk\n",
        "nltk.download('wordnet')\n",
        "from nltk.stem import PorterStemmer\n",
        "from nltk.stem import WordNetLemmatizer\n",
        "\n",
        "def preprocess(text):\n",
        "  text = text.lower() #lowercase\n",
        "  text = re.sub(r'[^\\w\\s]', '', text) #remove punctuations\n",
        "  text = re.sub(r'\\d+', '', text) #remove numbers\n",
        "  text = \" \".join(text.split()) #stripWhitespace\n",
        "  text = text.split()\n",
        "  text = [x for x in text if x not in stop_words] #remove stopwords\n",
        "  text = [x for x in text if x not in [\"product\", \"skin\",\"products\"]] #remove task specific stopwords\n",
        "  text = \" \".join(text)\n",
        "  #stemmer_ps = PorterStemmer()\n",
        "  #text = [stemmer_ps.stem(word) for word in text.split()] #stemming\n",
        "  #text = \" \".join(text)\n",
        "  lemmatizer = WordNetLemmatizer()\n",
        "  text = [lemmatizer.lemmatize(word) for word in text.split()]  #lemmatization\n",
        "  text = \" \".join(text)\n",
        "  return(text)"
      ],
      "metadata": {
        "colab": {
          "base_uri": "https://localhost:8080/"
        },
        "id": "7HEp5lWELxE9",
        "outputId": "1ae967c7-99b3-4ad5-dad5-0d5c86bcaa5c"
      },
      "execution_count": 18,
      "outputs": [
        {
          "output_type": "stream",
          "name": "stderr",
          "text": [
            "[nltk_data] Downloading package wordnet to /root/nltk_data...\n"
          ]
        }
      ]
    },
    {
      "cell_type": "code",
      "source": [
        "import pandas as pd\n",
        "data = pd.read_csv('Ulta Skincare Reviews.csv', encoding='utf-8')"
      ],
      "metadata": {
        "id": "lrQ1wJBuLyun"
      },
      "execution_count": 19,
      "outputs": []
    },
    {
      "cell_type": "code",
      "source": [
        "data.head()\n"
      ],
      "metadata": {
        "colab": {
          "base_uri": "https://localhost:8080/",
          "height": 479
        },
        "id": "GiFUcT0uPaZl",
        "outputId": "d11ec5d5-67db-44d1-a8df-32f0ed5187c5"
      },
      "execution_count": 20,
      "outputs": [
        {
          "output_type": "execute_result",
          "data": {
            "text/plain": [
              "                      Review_Title  \\\n",
              "0                          Perfect   \n",
              "1                    You need this   \n",
              "2                       Clean skin   \n",
              "3                 Love This Stuff!   \n",
              "4  This exfoliates very nicely and   \n",
              "\n",
              "                                         Review_Text Verified_Buyer  \\\n",
              "0  Love using this on my face while in the shower...             No   \n",
              "1  Even better than the daily microfoliant. I'm o...             No   \n",
              "2  Enjoy this product so much ! I look forward to...             No   \n",
              "3  I've never tried anything like this before and...             No   \n",
              "4  This exfoliates very nicely and gives a very s...             No   \n",
              "\n",
              "    Review_Date Review_Location  Review_Upvotes  Review_Downvotes  \\\n",
              "0   15 days ago     Undisclosed               0                 0   \n",
              "1   27 days ago     Undisclosed               0                 0   \n",
              "2  2 months ago     Undisclosed               0                 0   \n",
              "3  2 months ago     Undisclosed               0                 0   \n",
              "4  2 months ago     Undisclosed               0                 0   \n",
              "\n",
              "                       Product        Brand Scrape_Date  \n",
              "0  Multi-Vitamin Thermafoliant  Dermalogica     3/27/23  \n",
              "1  Multi-Vitamin Thermafoliant  Dermalogica     3/27/23  \n",
              "2  Multi-Vitamin Thermafoliant  Dermalogica     3/27/23  \n",
              "3  Multi-Vitamin Thermafoliant  Dermalogica     3/27/23  \n",
              "4  Multi-Vitamin Thermafoliant  Dermalogica     3/27/23  "
            ],
            "text/html": [
              "\n",
              "  <div id=\"df-99e2feca-6ad7-47b4-a61a-2d19b7cab5d2\" class=\"colab-df-container\">\n",
              "    <div>\n",
              "<style scoped>\n",
              "    .dataframe tbody tr th:only-of-type {\n",
              "        vertical-align: middle;\n",
              "    }\n",
              "\n",
              "    .dataframe tbody tr th {\n",
              "        vertical-align: top;\n",
              "    }\n",
              "\n",
              "    .dataframe thead th {\n",
              "        text-align: right;\n",
              "    }\n",
              "</style>\n",
              "<table border=\"1\" class=\"dataframe\">\n",
              "  <thead>\n",
              "    <tr style=\"text-align: right;\">\n",
              "      <th></th>\n",
              "      <th>Review_Title</th>\n",
              "      <th>Review_Text</th>\n",
              "      <th>Verified_Buyer</th>\n",
              "      <th>Review_Date</th>\n",
              "      <th>Review_Location</th>\n",
              "      <th>Review_Upvotes</th>\n",
              "      <th>Review_Downvotes</th>\n",
              "      <th>Product</th>\n",
              "      <th>Brand</th>\n",
              "      <th>Scrape_Date</th>\n",
              "    </tr>\n",
              "  </thead>\n",
              "  <tbody>\n",
              "    <tr>\n",
              "      <th>0</th>\n",
              "      <td>Perfect</td>\n",
              "      <td>Love using this on my face while in the shower...</td>\n",
              "      <td>No</td>\n",
              "      <td>15 days ago</td>\n",
              "      <td>Undisclosed</td>\n",
              "      <td>0</td>\n",
              "      <td>0</td>\n",
              "      <td>Multi-Vitamin Thermafoliant</td>\n",
              "      <td>Dermalogica</td>\n",
              "      <td>3/27/23</td>\n",
              "    </tr>\n",
              "    <tr>\n",
              "      <th>1</th>\n",
              "      <td>You need this</td>\n",
              "      <td>Even better than the daily microfoliant. I'm o...</td>\n",
              "      <td>No</td>\n",
              "      <td>27 days ago</td>\n",
              "      <td>Undisclosed</td>\n",
              "      <td>0</td>\n",
              "      <td>0</td>\n",
              "      <td>Multi-Vitamin Thermafoliant</td>\n",
              "      <td>Dermalogica</td>\n",
              "      <td>3/27/23</td>\n",
              "    </tr>\n",
              "    <tr>\n",
              "      <th>2</th>\n",
              "      <td>Clean skin</td>\n",
              "      <td>Enjoy this product so much ! I look forward to...</td>\n",
              "      <td>No</td>\n",
              "      <td>2 months ago</td>\n",
              "      <td>Undisclosed</td>\n",
              "      <td>0</td>\n",
              "      <td>0</td>\n",
              "      <td>Multi-Vitamin Thermafoliant</td>\n",
              "      <td>Dermalogica</td>\n",
              "      <td>3/27/23</td>\n",
              "    </tr>\n",
              "    <tr>\n",
              "      <th>3</th>\n",
              "      <td>Love This Stuff!</td>\n",
              "      <td>I've never tried anything like this before and...</td>\n",
              "      <td>No</td>\n",
              "      <td>2 months ago</td>\n",
              "      <td>Undisclosed</td>\n",
              "      <td>0</td>\n",
              "      <td>0</td>\n",
              "      <td>Multi-Vitamin Thermafoliant</td>\n",
              "      <td>Dermalogica</td>\n",
              "      <td>3/27/23</td>\n",
              "    </tr>\n",
              "    <tr>\n",
              "      <th>4</th>\n",
              "      <td>This exfoliates very nicely and</td>\n",
              "      <td>This exfoliates very nicely and gives a very s...</td>\n",
              "      <td>No</td>\n",
              "      <td>2 months ago</td>\n",
              "      <td>Undisclosed</td>\n",
              "      <td>0</td>\n",
              "      <td>0</td>\n",
              "      <td>Multi-Vitamin Thermafoliant</td>\n",
              "      <td>Dermalogica</td>\n",
              "      <td>3/27/23</td>\n",
              "    </tr>\n",
              "  </tbody>\n",
              "</table>\n",
              "</div>\n",
              "    <div class=\"colab-df-buttons\">\n",
              "\n",
              "  <div class=\"colab-df-container\">\n",
              "    <button class=\"colab-df-convert\" onclick=\"convertToInteractive('df-99e2feca-6ad7-47b4-a61a-2d19b7cab5d2')\"\n",
              "            title=\"Convert this dataframe to an interactive table.\"\n",
              "            style=\"display:none;\">\n",
              "\n",
              "  <svg xmlns=\"http://www.w3.org/2000/svg\" height=\"24px\" viewBox=\"0 -960 960 960\">\n",
              "    <path d=\"M120-120v-720h720v720H120Zm60-500h600v-160H180v160Zm220 220h160v-160H400v160Zm0 220h160v-160H400v160ZM180-400h160v-160H180v160Zm440 0h160v-160H620v160ZM180-180h160v-160H180v160Zm440 0h160v-160H620v160Z\"/>\n",
              "  </svg>\n",
              "    </button>\n",
              "\n",
              "  <style>\n",
              "    .colab-df-container {\n",
              "      display:flex;\n",
              "      gap: 12px;\n",
              "    }\n",
              "\n",
              "    .colab-df-convert {\n",
              "      background-color: #E8F0FE;\n",
              "      border: none;\n",
              "      border-radius: 50%;\n",
              "      cursor: pointer;\n",
              "      display: none;\n",
              "      fill: #1967D2;\n",
              "      height: 32px;\n",
              "      padding: 0 0 0 0;\n",
              "      width: 32px;\n",
              "    }\n",
              "\n",
              "    .colab-df-convert:hover {\n",
              "      background-color: #E2EBFA;\n",
              "      box-shadow: 0px 1px 2px rgba(60, 64, 67, 0.3), 0px 1px 3px 1px rgba(60, 64, 67, 0.15);\n",
              "      fill: #174EA6;\n",
              "    }\n",
              "\n",
              "    .colab-df-buttons div {\n",
              "      margin-bottom: 4px;\n",
              "    }\n",
              "\n",
              "    [theme=dark] .colab-df-convert {\n",
              "      background-color: #3B4455;\n",
              "      fill: #D2E3FC;\n",
              "    }\n",
              "\n",
              "    [theme=dark] .colab-df-convert:hover {\n",
              "      background-color: #434B5C;\n",
              "      box-shadow: 0px 1px 3px 1px rgba(0, 0, 0, 0.15);\n",
              "      filter: drop-shadow(0px 1px 2px rgba(0, 0, 0, 0.3));\n",
              "      fill: #FFFFFF;\n",
              "    }\n",
              "  </style>\n",
              "\n",
              "    <script>\n",
              "      const buttonEl =\n",
              "        document.querySelector('#df-99e2feca-6ad7-47b4-a61a-2d19b7cab5d2 button.colab-df-convert');\n",
              "      buttonEl.style.display =\n",
              "        google.colab.kernel.accessAllowed ? 'block' : 'none';\n",
              "\n",
              "      async function convertToInteractive(key) {\n",
              "        const element = document.querySelector('#df-99e2feca-6ad7-47b4-a61a-2d19b7cab5d2');\n",
              "        const dataTable =\n",
              "          await google.colab.kernel.invokeFunction('convertToInteractive',\n",
              "                                                    [key], {});\n",
              "        if (!dataTable) return;\n",
              "\n",
              "        const docLinkHtml = 'Like what you see? Visit the ' +\n",
              "          '<a target=\"_blank\" href=https://colab.research.google.com/notebooks/data_table.ipynb>data table notebook</a>'\n",
              "          + ' to learn more about interactive tables.';\n",
              "        element.innerHTML = '';\n",
              "        dataTable['output_type'] = 'display_data';\n",
              "        await google.colab.output.renderOutput(dataTable, element);\n",
              "        const docLink = document.createElement('div');\n",
              "        docLink.innerHTML = docLinkHtml;\n",
              "        element.appendChild(docLink);\n",
              "      }\n",
              "    </script>\n",
              "  </div>\n",
              "\n",
              "\n",
              "<div id=\"df-58962519-7f3a-4638-bd0a-d1cf493189f4\">\n",
              "  <button class=\"colab-df-quickchart\" onclick=\"quickchart('df-58962519-7f3a-4638-bd0a-d1cf493189f4')\"\n",
              "            title=\"Suggest charts\"\n",
              "            style=\"display:none;\">\n",
              "\n",
              "<svg xmlns=\"http://www.w3.org/2000/svg\" height=\"24px\"viewBox=\"0 0 24 24\"\n",
              "     width=\"24px\">\n",
              "    <g>\n",
              "        <path d=\"M19 3H5c-1.1 0-2 .9-2 2v14c0 1.1.9 2 2 2h14c1.1 0 2-.9 2-2V5c0-1.1-.9-2-2-2zM9 17H7v-7h2v7zm4 0h-2V7h2v10zm4 0h-2v-4h2v4z\"/>\n",
              "    </g>\n",
              "</svg>\n",
              "  </button>\n",
              "\n",
              "<style>\n",
              "  .colab-df-quickchart {\n",
              "      --bg-color: #E8F0FE;\n",
              "      --fill-color: #1967D2;\n",
              "      --hover-bg-color: #E2EBFA;\n",
              "      --hover-fill-color: #174EA6;\n",
              "      --disabled-fill-color: #AAA;\n",
              "      --disabled-bg-color: #DDD;\n",
              "  }\n",
              "\n",
              "  [theme=dark] .colab-df-quickchart {\n",
              "      --bg-color: #3B4455;\n",
              "      --fill-color: #D2E3FC;\n",
              "      --hover-bg-color: #434B5C;\n",
              "      --hover-fill-color: #FFFFFF;\n",
              "      --disabled-bg-color: #3B4455;\n",
              "      --disabled-fill-color: #666;\n",
              "  }\n",
              "\n",
              "  .colab-df-quickchart {\n",
              "    background-color: var(--bg-color);\n",
              "    border: none;\n",
              "    border-radius: 50%;\n",
              "    cursor: pointer;\n",
              "    display: none;\n",
              "    fill: var(--fill-color);\n",
              "    height: 32px;\n",
              "    padding: 0;\n",
              "    width: 32px;\n",
              "  }\n",
              "\n",
              "  .colab-df-quickchart:hover {\n",
              "    background-color: var(--hover-bg-color);\n",
              "    box-shadow: 0 1px 2px rgba(60, 64, 67, 0.3), 0 1px 3px 1px rgba(60, 64, 67, 0.15);\n",
              "    fill: var(--button-hover-fill-color);\n",
              "  }\n",
              "\n",
              "  .colab-df-quickchart-complete:disabled,\n",
              "  .colab-df-quickchart-complete:disabled:hover {\n",
              "    background-color: var(--disabled-bg-color);\n",
              "    fill: var(--disabled-fill-color);\n",
              "    box-shadow: none;\n",
              "  }\n",
              "\n",
              "  .colab-df-spinner {\n",
              "    border: 2px solid var(--fill-color);\n",
              "    border-color: transparent;\n",
              "    border-bottom-color: var(--fill-color);\n",
              "    animation:\n",
              "      spin 1s steps(1) infinite;\n",
              "  }\n",
              "\n",
              "  @keyframes spin {\n",
              "    0% {\n",
              "      border-color: transparent;\n",
              "      border-bottom-color: var(--fill-color);\n",
              "      border-left-color: var(--fill-color);\n",
              "    }\n",
              "    20% {\n",
              "      border-color: transparent;\n",
              "      border-left-color: var(--fill-color);\n",
              "      border-top-color: var(--fill-color);\n",
              "    }\n",
              "    30% {\n",
              "      border-color: transparent;\n",
              "      border-left-color: var(--fill-color);\n",
              "      border-top-color: var(--fill-color);\n",
              "      border-right-color: var(--fill-color);\n",
              "    }\n",
              "    40% {\n",
              "      border-color: transparent;\n",
              "      border-right-color: var(--fill-color);\n",
              "      border-top-color: var(--fill-color);\n",
              "    }\n",
              "    60% {\n",
              "      border-color: transparent;\n",
              "      border-right-color: var(--fill-color);\n",
              "    }\n",
              "    80% {\n",
              "      border-color: transparent;\n",
              "      border-right-color: var(--fill-color);\n",
              "      border-bottom-color: var(--fill-color);\n",
              "    }\n",
              "    90% {\n",
              "      border-color: transparent;\n",
              "      border-bottom-color: var(--fill-color);\n",
              "    }\n",
              "  }\n",
              "</style>\n",
              "\n",
              "  <script>\n",
              "    async function quickchart(key) {\n",
              "      const quickchartButtonEl =\n",
              "        document.querySelector('#' + key + ' button');\n",
              "      quickchartButtonEl.disabled = true;  // To prevent multiple clicks.\n",
              "      quickchartButtonEl.classList.add('colab-df-spinner');\n",
              "      try {\n",
              "        const charts = await google.colab.kernel.invokeFunction(\n",
              "            'suggestCharts', [key], {});\n",
              "      } catch (error) {\n",
              "        console.error('Error during call to suggestCharts:', error);\n",
              "      }\n",
              "      quickchartButtonEl.classList.remove('colab-df-spinner');\n",
              "      quickchartButtonEl.classList.add('colab-df-quickchart-complete');\n",
              "    }\n",
              "    (() => {\n",
              "      let quickchartButtonEl =\n",
              "        document.querySelector('#df-58962519-7f3a-4638-bd0a-d1cf493189f4 button');\n",
              "      quickchartButtonEl.style.display =\n",
              "        google.colab.kernel.accessAllowed ? 'block' : 'none';\n",
              "    })();\n",
              "  </script>\n",
              "</div>\n",
              "\n",
              "    </div>\n",
              "  </div>\n"
            ],
            "application/vnd.google.colaboratory.intrinsic+json": {
              "type": "dataframe",
              "variable_name": "data",
              "summary": "{\n  \"name\": \"data\",\n  \"rows\": 4150,\n  \"fields\": [\n    {\n      \"column\": \"Review_Title\",\n      \"properties\": {\n        \"dtype\": \"string\",\n        \"num_unique_values\": 2828,\n        \"samples\": [\n          \"Great recommendation\",\n          \"Very Cool\",\n          \"Its so gentle and love the exfoliation\"\n        ],\n        \"semantic_type\": \"\",\n        \"description\": \"\"\n      }\n    },\n    {\n      \"column\": \"Review_Text\",\n      \"properties\": {\n        \"dtype\": \"string\",\n        \"num_unique_values\": 3660,\n        \"samples\": [\n          \"This product has an amazing finish and leaves your skin with a radiant glow.\",\n          \"My skin was extremely smooth, but the warming sensation burned my skin and left it feeling extremely tight. Within twenty minutes, my cheeks and forehead had tiny bumps in tight clusters. I'm not sure what ingredient caused the issue, but this product is not for you if you have known sensitivity issues.\",\n          \"This makes my skin look and feel SO smooth!\"\n        ],\n        \"semantic_type\": \"\",\n        \"description\": \"\"\n      }\n    },\n    {\n      \"column\": \"Verified_Buyer\",\n      \"properties\": {\n        \"dtype\": \"category\",\n        \"num_unique_values\": 2,\n        \"samples\": [\n          \"Yes\",\n          \"No\"\n        ],\n        \"semantic_type\": \"\",\n        \"description\": \"\"\n      }\n    },\n    {\n      \"column\": \"Review_Date\",\n      \"properties\": {\n        \"dtype\": \"category\",\n        \"num_unique_values\": 41,\n        \"samples\": [\n          \"7 days ago\",\n          \"2 years ago\"\n        ],\n        \"semantic_type\": \"\",\n        \"description\": \"\"\n      }\n    },\n    {\n      \"column\": \"Review_Location\",\n      \"properties\": {\n        \"dtype\": \"category\",\n        \"num_unique_values\": 1423,\n        \"samples\": [\n          \"St Petersburg Florida\",\n          \"Medford Oregon\"\n        ],\n        \"semantic_type\": \"\",\n        \"description\": \"\"\n      }\n    },\n    {\n      \"column\": \"Review_Upvotes\",\n      \"properties\": {\n        \"dtype\": \"number\",\n        \"std\": 2,\n        \"min\": 0,\n        \"max\": 84,\n        \"num_unique_values\": 23,\n        \"samples\": [\n          17,\n          11\n        ],\n        \"semantic_type\": \"\",\n        \"description\": \"\"\n      }\n    },\n    {\n      \"column\": \"Review_Downvotes\",\n      \"properties\": {\n        \"dtype\": \"number\",\n        \"std\": 0,\n        \"min\": 0,\n        \"max\": 35,\n        \"num_unique_values\": 15,\n        \"samples\": [\n          8,\n          13\n        ],\n        \"semantic_type\": \"\",\n        \"description\": \"\"\n      }\n    },\n    {\n      \"column\": \"Product\",\n      \"properties\": {\n        \"dtype\": \"category\",\n        \"num_unique_values\": 4,\n        \"samples\": [\n          \"Hydro Masque Exfoliant\",\n          \"Daily Microfoliant\"\n        ],\n        \"semantic_type\": \"\",\n        \"description\": \"\"\n      }\n    },\n    {\n      \"column\": \"Brand\",\n      \"properties\": {\n        \"dtype\": \"category\",\n        \"num_unique_values\": 1,\n        \"samples\": [\n          \"Dermalogica\"\n        ],\n        \"semantic_type\": \"\",\n        \"description\": \"\"\n      }\n    },\n    {\n      \"column\": \"Scrape_Date\",\n      \"properties\": {\n        \"dtype\": \"object\",\n        \"num_unique_values\": 1,\n        \"samples\": [\n          \"3/27/23\"\n        ],\n        \"semantic_type\": \"\",\n        \"description\": \"\"\n      }\n    }\n  ]\n}"
            }
          },
          "metadata": {},
          "execution_count": 20
        }
      ]
    },
    {
      "cell_type": "code",
      "source": [
        "data = data.dropna(subset=['Review_Text'])\n",
        "data['review_processed']=data['Review_Text'].apply(lambda x:preprocess(x))\n",
        "data['review_processed']=data['review_processed'].apply(lambda x:x.split())\n"
      ],
      "metadata": {
        "id": "IMVQImMcQQgb"
      },
      "execution_count": 21,
      "outputs": []
    },
    {
      "cell_type": "code",
      "source": [],
      "metadata": {
        "id": "OoPQisN7Tp4E"
      },
      "execution_count": 21,
      "outputs": []
    },
    {
      "cell_type": "code",
      "source": [
        "data.head()"
      ],
      "metadata": {
        "colab": {
          "base_uri": "https://localhost:8080/",
          "height": 479
        },
        "id": "xSxEfm6FQryB",
        "outputId": "268e73d6-ddee-49ce-edc6-483ff999a9ec"
      },
      "execution_count": 22,
      "outputs": [
        {
          "output_type": "execute_result",
          "data": {
            "text/plain": [
              "                      Review_Title  \\\n",
              "0                          Perfect   \n",
              "1                    You need this   \n",
              "2                       Clean skin   \n",
              "3                 Love This Stuff!   \n",
              "4  This exfoliates very nicely and   \n",
              "\n",
              "                                         Review_Text Verified_Buyer  \\\n",
              "0  Love using this on my face while in the shower...             No   \n",
              "1  Even better than the daily microfoliant. I'm o...             No   \n",
              "2  Enjoy this product so much ! I look forward to...             No   \n",
              "3  I've never tried anything like this before and...             No   \n",
              "4  This exfoliates very nicely and gives a very s...             No   \n",
              "\n",
              "    Review_Date Review_Location  Review_Upvotes  Review_Downvotes  \\\n",
              "0   15 days ago     Undisclosed               0                 0   \n",
              "1   27 days ago     Undisclosed               0                 0   \n",
              "2  2 months ago     Undisclosed               0                 0   \n",
              "3  2 months ago     Undisclosed               0                 0   \n",
              "4  2 months ago     Undisclosed               0                 0   \n",
              "\n",
              "                       Product        Brand Scrape_Date  \\\n",
              "0  Multi-Vitamin Thermafoliant  Dermalogica     3/27/23   \n",
              "1  Multi-Vitamin Thermafoliant  Dermalogica     3/27/23   \n",
              "2  Multi-Vitamin Thermafoliant  Dermalogica     3/27/23   \n",
              "3  Multi-Vitamin Thermafoliant  Dermalogica     3/27/23   \n",
              "4  Multi-Vitamin Thermafoliant  Dermalogica     3/27/23   \n",
              "\n",
              "                                    review_processed  \n",
              "0  [love, using, face, shower, heat, give, light,...  \n",
              "1  [better, daily, microfoliant, im, obsessed, sm...  \n",
              "2  [enjoy, look, forward, using, really, feel, gr...  \n",
              "3  [ive, tried, like, love, apply, face, little, ...  \n",
              "4  [exfoliates, nicely, give, smooth, irritation,...  "
            ],
            "text/html": [
              "\n",
              "  <div id=\"df-cc996c73-695b-42d1-b97f-6b9ea9b2e5db\" class=\"colab-df-container\">\n",
              "    <div>\n",
              "<style scoped>\n",
              "    .dataframe tbody tr th:only-of-type {\n",
              "        vertical-align: middle;\n",
              "    }\n",
              "\n",
              "    .dataframe tbody tr th {\n",
              "        vertical-align: top;\n",
              "    }\n",
              "\n",
              "    .dataframe thead th {\n",
              "        text-align: right;\n",
              "    }\n",
              "</style>\n",
              "<table border=\"1\" class=\"dataframe\">\n",
              "  <thead>\n",
              "    <tr style=\"text-align: right;\">\n",
              "      <th></th>\n",
              "      <th>Review_Title</th>\n",
              "      <th>Review_Text</th>\n",
              "      <th>Verified_Buyer</th>\n",
              "      <th>Review_Date</th>\n",
              "      <th>Review_Location</th>\n",
              "      <th>Review_Upvotes</th>\n",
              "      <th>Review_Downvotes</th>\n",
              "      <th>Product</th>\n",
              "      <th>Brand</th>\n",
              "      <th>Scrape_Date</th>\n",
              "      <th>review_processed</th>\n",
              "    </tr>\n",
              "  </thead>\n",
              "  <tbody>\n",
              "    <tr>\n",
              "      <th>0</th>\n",
              "      <td>Perfect</td>\n",
              "      <td>Love using this on my face while in the shower...</td>\n",
              "      <td>No</td>\n",
              "      <td>15 days ago</td>\n",
              "      <td>Undisclosed</td>\n",
              "      <td>0</td>\n",
              "      <td>0</td>\n",
              "      <td>Multi-Vitamin Thermafoliant</td>\n",
              "      <td>Dermalogica</td>\n",
              "      <td>3/27/23</td>\n",
              "      <td>[love, using, face, shower, heat, give, light,...</td>\n",
              "    </tr>\n",
              "    <tr>\n",
              "      <th>1</th>\n",
              "      <td>You need this</td>\n",
              "      <td>Even better than the daily microfoliant. I'm o...</td>\n",
              "      <td>No</td>\n",
              "      <td>27 days ago</td>\n",
              "      <td>Undisclosed</td>\n",
              "      <td>0</td>\n",
              "      <td>0</td>\n",
              "      <td>Multi-Vitamin Thermafoliant</td>\n",
              "      <td>Dermalogica</td>\n",
              "      <td>3/27/23</td>\n",
              "      <td>[better, daily, microfoliant, im, obsessed, sm...</td>\n",
              "    </tr>\n",
              "    <tr>\n",
              "      <th>2</th>\n",
              "      <td>Clean skin</td>\n",
              "      <td>Enjoy this product so much ! I look forward to...</td>\n",
              "      <td>No</td>\n",
              "      <td>2 months ago</td>\n",
              "      <td>Undisclosed</td>\n",
              "      <td>0</td>\n",
              "      <td>0</td>\n",
              "      <td>Multi-Vitamin Thermafoliant</td>\n",
              "      <td>Dermalogica</td>\n",
              "      <td>3/27/23</td>\n",
              "      <td>[enjoy, look, forward, using, really, feel, gr...</td>\n",
              "    </tr>\n",
              "    <tr>\n",
              "      <th>3</th>\n",
              "      <td>Love This Stuff!</td>\n",
              "      <td>I've never tried anything like this before and...</td>\n",
              "      <td>No</td>\n",
              "      <td>2 months ago</td>\n",
              "      <td>Undisclosed</td>\n",
              "      <td>0</td>\n",
              "      <td>0</td>\n",
              "      <td>Multi-Vitamin Thermafoliant</td>\n",
              "      <td>Dermalogica</td>\n",
              "      <td>3/27/23</td>\n",
              "      <td>[ive, tried, like, love, apply, face, little, ...</td>\n",
              "    </tr>\n",
              "    <tr>\n",
              "      <th>4</th>\n",
              "      <td>This exfoliates very nicely and</td>\n",
              "      <td>This exfoliates very nicely and gives a very s...</td>\n",
              "      <td>No</td>\n",
              "      <td>2 months ago</td>\n",
              "      <td>Undisclosed</td>\n",
              "      <td>0</td>\n",
              "      <td>0</td>\n",
              "      <td>Multi-Vitamin Thermafoliant</td>\n",
              "      <td>Dermalogica</td>\n",
              "      <td>3/27/23</td>\n",
              "      <td>[exfoliates, nicely, give, smooth, irritation,...</td>\n",
              "    </tr>\n",
              "  </tbody>\n",
              "</table>\n",
              "</div>\n",
              "    <div class=\"colab-df-buttons\">\n",
              "\n",
              "  <div class=\"colab-df-container\">\n",
              "    <button class=\"colab-df-convert\" onclick=\"convertToInteractive('df-cc996c73-695b-42d1-b97f-6b9ea9b2e5db')\"\n",
              "            title=\"Convert this dataframe to an interactive table.\"\n",
              "            style=\"display:none;\">\n",
              "\n",
              "  <svg xmlns=\"http://www.w3.org/2000/svg\" height=\"24px\" viewBox=\"0 -960 960 960\">\n",
              "    <path d=\"M120-120v-720h720v720H120Zm60-500h600v-160H180v160Zm220 220h160v-160H400v160Zm0 220h160v-160H400v160ZM180-400h160v-160H180v160Zm440 0h160v-160H620v160ZM180-180h160v-160H180v160Zm440 0h160v-160H620v160Z\"/>\n",
              "  </svg>\n",
              "    </button>\n",
              "\n",
              "  <style>\n",
              "    .colab-df-container {\n",
              "      display:flex;\n",
              "      gap: 12px;\n",
              "    }\n",
              "\n",
              "    .colab-df-convert {\n",
              "      background-color: #E8F0FE;\n",
              "      border: none;\n",
              "      border-radius: 50%;\n",
              "      cursor: pointer;\n",
              "      display: none;\n",
              "      fill: #1967D2;\n",
              "      height: 32px;\n",
              "      padding: 0 0 0 0;\n",
              "      width: 32px;\n",
              "    }\n",
              "\n",
              "    .colab-df-convert:hover {\n",
              "      background-color: #E2EBFA;\n",
              "      box-shadow: 0px 1px 2px rgba(60, 64, 67, 0.3), 0px 1px 3px 1px rgba(60, 64, 67, 0.15);\n",
              "      fill: #174EA6;\n",
              "    }\n",
              "\n",
              "    .colab-df-buttons div {\n",
              "      margin-bottom: 4px;\n",
              "    }\n",
              "\n",
              "    [theme=dark] .colab-df-convert {\n",
              "      background-color: #3B4455;\n",
              "      fill: #D2E3FC;\n",
              "    }\n",
              "\n",
              "    [theme=dark] .colab-df-convert:hover {\n",
              "      background-color: #434B5C;\n",
              "      box-shadow: 0px 1px 3px 1px rgba(0, 0, 0, 0.15);\n",
              "      filter: drop-shadow(0px 1px 2px rgba(0, 0, 0, 0.3));\n",
              "      fill: #FFFFFF;\n",
              "    }\n",
              "  </style>\n",
              "\n",
              "    <script>\n",
              "      const buttonEl =\n",
              "        document.querySelector('#df-cc996c73-695b-42d1-b97f-6b9ea9b2e5db button.colab-df-convert');\n",
              "      buttonEl.style.display =\n",
              "        google.colab.kernel.accessAllowed ? 'block' : 'none';\n",
              "\n",
              "      async function convertToInteractive(key) {\n",
              "        const element = document.querySelector('#df-cc996c73-695b-42d1-b97f-6b9ea9b2e5db');\n",
              "        const dataTable =\n",
              "          await google.colab.kernel.invokeFunction('convertToInteractive',\n",
              "                                                    [key], {});\n",
              "        if (!dataTable) return;\n",
              "\n",
              "        const docLinkHtml = 'Like what you see? Visit the ' +\n",
              "          '<a target=\"_blank\" href=https://colab.research.google.com/notebooks/data_table.ipynb>data table notebook</a>'\n",
              "          + ' to learn more about interactive tables.';\n",
              "        element.innerHTML = '';\n",
              "        dataTable['output_type'] = 'display_data';\n",
              "        await google.colab.output.renderOutput(dataTable, element);\n",
              "        const docLink = document.createElement('div');\n",
              "        docLink.innerHTML = docLinkHtml;\n",
              "        element.appendChild(docLink);\n",
              "      }\n",
              "    </script>\n",
              "  </div>\n",
              "\n",
              "\n",
              "<div id=\"df-285af4d8-763b-416c-8bee-0b5db857f2bd\">\n",
              "  <button class=\"colab-df-quickchart\" onclick=\"quickchart('df-285af4d8-763b-416c-8bee-0b5db857f2bd')\"\n",
              "            title=\"Suggest charts\"\n",
              "            style=\"display:none;\">\n",
              "\n",
              "<svg xmlns=\"http://www.w3.org/2000/svg\" height=\"24px\"viewBox=\"0 0 24 24\"\n",
              "     width=\"24px\">\n",
              "    <g>\n",
              "        <path d=\"M19 3H5c-1.1 0-2 .9-2 2v14c0 1.1.9 2 2 2h14c1.1 0 2-.9 2-2V5c0-1.1-.9-2-2-2zM9 17H7v-7h2v7zm4 0h-2V7h2v10zm4 0h-2v-4h2v4z\"/>\n",
              "    </g>\n",
              "</svg>\n",
              "  </button>\n",
              "\n",
              "<style>\n",
              "  .colab-df-quickchart {\n",
              "      --bg-color: #E8F0FE;\n",
              "      --fill-color: #1967D2;\n",
              "      --hover-bg-color: #E2EBFA;\n",
              "      --hover-fill-color: #174EA6;\n",
              "      --disabled-fill-color: #AAA;\n",
              "      --disabled-bg-color: #DDD;\n",
              "  }\n",
              "\n",
              "  [theme=dark] .colab-df-quickchart {\n",
              "      --bg-color: #3B4455;\n",
              "      --fill-color: #D2E3FC;\n",
              "      --hover-bg-color: #434B5C;\n",
              "      --hover-fill-color: #FFFFFF;\n",
              "      --disabled-bg-color: #3B4455;\n",
              "      --disabled-fill-color: #666;\n",
              "  }\n",
              "\n",
              "  .colab-df-quickchart {\n",
              "    background-color: var(--bg-color);\n",
              "    border: none;\n",
              "    border-radius: 50%;\n",
              "    cursor: pointer;\n",
              "    display: none;\n",
              "    fill: var(--fill-color);\n",
              "    height: 32px;\n",
              "    padding: 0;\n",
              "    width: 32px;\n",
              "  }\n",
              "\n",
              "  .colab-df-quickchart:hover {\n",
              "    background-color: var(--hover-bg-color);\n",
              "    box-shadow: 0 1px 2px rgba(60, 64, 67, 0.3), 0 1px 3px 1px rgba(60, 64, 67, 0.15);\n",
              "    fill: var(--button-hover-fill-color);\n",
              "  }\n",
              "\n",
              "  .colab-df-quickchart-complete:disabled,\n",
              "  .colab-df-quickchart-complete:disabled:hover {\n",
              "    background-color: var(--disabled-bg-color);\n",
              "    fill: var(--disabled-fill-color);\n",
              "    box-shadow: none;\n",
              "  }\n",
              "\n",
              "  .colab-df-spinner {\n",
              "    border: 2px solid var(--fill-color);\n",
              "    border-color: transparent;\n",
              "    border-bottom-color: var(--fill-color);\n",
              "    animation:\n",
              "      spin 1s steps(1) infinite;\n",
              "  }\n",
              "\n",
              "  @keyframes spin {\n",
              "    0% {\n",
              "      border-color: transparent;\n",
              "      border-bottom-color: var(--fill-color);\n",
              "      border-left-color: var(--fill-color);\n",
              "    }\n",
              "    20% {\n",
              "      border-color: transparent;\n",
              "      border-left-color: var(--fill-color);\n",
              "      border-top-color: var(--fill-color);\n",
              "    }\n",
              "    30% {\n",
              "      border-color: transparent;\n",
              "      border-left-color: var(--fill-color);\n",
              "      border-top-color: var(--fill-color);\n",
              "      border-right-color: var(--fill-color);\n",
              "    }\n",
              "    40% {\n",
              "      border-color: transparent;\n",
              "      border-right-color: var(--fill-color);\n",
              "      border-top-color: var(--fill-color);\n",
              "    }\n",
              "    60% {\n",
              "      border-color: transparent;\n",
              "      border-right-color: var(--fill-color);\n",
              "    }\n",
              "    80% {\n",
              "      border-color: transparent;\n",
              "      border-right-color: var(--fill-color);\n",
              "      border-bottom-color: var(--fill-color);\n",
              "    }\n",
              "    90% {\n",
              "      border-color: transparent;\n",
              "      border-bottom-color: var(--fill-color);\n",
              "    }\n",
              "  }\n",
              "</style>\n",
              "\n",
              "  <script>\n",
              "    async function quickchart(key) {\n",
              "      const quickchartButtonEl =\n",
              "        document.querySelector('#' + key + ' button');\n",
              "      quickchartButtonEl.disabled = true;  // To prevent multiple clicks.\n",
              "      quickchartButtonEl.classList.add('colab-df-spinner');\n",
              "      try {\n",
              "        const charts = await google.colab.kernel.invokeFunction(\n",
              "            'suggestCharts', [key], {});\n",
              "      } catch (error) {\n",
              "        console.error('Error during call to suggestCharts:', error);\n",
              "      }\n",
              "      quickchartButtonEl.classList.remove('colab-df-spinner');\n",
              "      quickchartButtonEl.classList.add('colab-df-quickchart-complete');\n",
              "    }\n",
              "    (() => {\n",
              "      let quickchartButtonEl =\n",
              "        document.querySelector('#df-285af4d8-763b-416c-8bee-0b5db857f2bd button');\n",
              "      quickchartButtonEl.style.display =\n",
              "        google.colab.kernel.accessAllowed ? 'block' : 'none';\n",
              "    })();\n",
              "  </script>\n",
              "</div>\n",
              "\n",
              "    </div>\n",
              "  </div>\n"
            ],
            "application/vnd.google.colaboratory.intrinsic+json": {
              "type": "dataframe",
              "variable_name": "data",
              "summary": "{\n  \"name\": \"data\",\n  \"rows\": 4147,\n  \"fields\": [\n    {\n      \"column\": \"Review_Title\",\n      \"properties\": {\n        \"dtype\": \"string\",\n        \"num_unique_values\": 2826,\n        \"samples\": [\n          \"Fresh and tight!\",\n          \"Super Luxe\",\n          \"Best product ever !\"\n        ],\n        \"semantic_type\": \"\",\n        \"description\": \"\"\n      }\n    },\n    {\n      \"column\": \"Review_Text\",\n      \"properties\": {\n        \"dtype\": \"string\",\n        \"num_unique_values\": 3660,\n        \"samples\": [\n          \"This product has an amazing finish and leaves your skin with a radiant glow.\",\n          \"My skin was extremely smooth, but the warming sensation burned my skin and left it feeling extremely tight. Within twenty minutes, my cheeks and forehead had tiny bumps in tight clusters. I'm not sure what ingredient caused the issue, but this product is not for you if you have known sensitivity issues.\",\n          \"This makes my skin look and feel SO smooth!\"\n        ],\n        \"semantic_type\": \"\",\n        \"description\": \"\"\n      }\n    },\n    {\n      \"column\": \"Verified_Buyer\",\n      \"properties\": {\n        \"dtype\": \"category\",\n        \"num_unique_values\": 2,\n        \"samples\": [\n          \"Yes\",\n          \"No\"\n        ],\n        \"semantic_type\": \"\",\n        \"description\": \"\"\n      }\n    },\n    {\n      \"column\": \"Review_Date\",\n      \"properties\": {\n        \"dtype\": \"category\",\n        \"num_unique_values\": 41,\n        \"samples\": [\n          \"7 days ago\",\n          \"2 years ago\"\n        ],\n        \"semantic_type\": \"\",\n        \"description\": \"\"\n      }\n    },\n    {\n      \"column\": \"Review_Location\",\n      \"properties\": {\n        \"dtype\": \"category\",\n        \"num_unique_values\": 1423,\n        \"samples\": [\n          \"St Petersburg Florida\",\n          \"Medford Oregon\"\n        ],\n        \"semantic_type\": \"\",\n        \"description\": \"\"\n      }\n    },\n    {\n      \"column\": \"Review_Upvotes\",\n      \"properties\": {\n        \"dtype\": \"number\",\n        \"std\": 2,\n        \"min\": 0,\n        \"max\": 84,\n        \"num_unique_values\": 23,\n        \"samples\": [\n          17,\n          11\n        ],\n        \"semantic_type\": \"\",\n        \"description\": \"\"\n      }\n    },\n    {\n      \"column\": \"Review_Downvotes\",\n      \"properties\": {\n        \"dtype\": \"number\",\n        \"std\": 0,\n        \"min\": 0,\n        \"max\": 35,\n        \"num_unique_values\": 15,\n        \"samples\": [\n          8,\n          13\n        ],\n        \"semantic_type\": \"\",\n        \"description\": \"\"\n      }\n    },\n    {\n      \"column\": \"Product\",\n      \"properties\": {\n        \"dtype\": \"category\",\n        \"num_unique_values\": 4,\n        \"samples\": [\n          \"Hydro Masque Exfoliant\",\n          \"Daily Microfoliant\"\n        ],\n        \"semantic_type\": \"\",\n        \"description\": \"\"\n      }\n    },\n    {\n      \"column\": \"Brand\",\n      \"properties\": {\n        \"dtype\": \"category\",\n        \"num_unique_values\": 1,\n        \"samples\": [\n          \"Dermalogica\"\n        ],\n        \"semantic_type\": \"\",\n        \"description\": \"\"\n      }\n    },\n    {\n      \"column\": \"Scrape_Date\",\n      \"properties\": {\n        \"dtype\": \"object\",\n        \"num_unique_values\": 1,\n        \"samples\": [\n          \"3/27/23\"\n        ],\n        \"semantic_type\": \"\",\n        \"description\": \"\"\n      }\n    },\n    {\n      \"column\": \"review_processed\",\n      \"properties\": {\n        \"dtype\": \"object\",\n        \"semantic_type\": \"\",\n        \"description\": \"\"\n      }\n    }\n  ]\n}"
            }
          },
          "metadata": {},
          "execution_count": 22
        }
      ]
    },
    {
      "cell_type": "code",
      "source": [
        "model = Word2Vec(sentences=data['review_processed'].tolist(), vector_size=100, sg=1,min_count=5,window=5,workers=50,seed=10,epochs=50)\n",
        "#vector_size (int, optional) – Dimensionality of the word vectors.\n",
        "#min_count (int, optional) – Ignores all words with total frequency lower than this.\n",
        "#window (int, optional) – Maximum distance between the current and predicted word within a sentence.\n",
        "#workers (int, optional) – Use these many worker threads to train the model (=faster training with multicore machines).\n",
        "#sg ({0, 1}, optional) – Training algorithm: 1 for skip-gram; otherwise CBOW.\n",
        "#epochs (int, optional) – Number of iterations (epochs) over the corpus. (Formerly: iter)\n",
        "\n",
        "#The meaning of most of the parameters are beyond the scope of this class. If interested, please check the official documentations: https://radimrehurek.com/gensim/models/word2vec.html"
      ],
      "metadata": {
        "id": "Q_c4YQQ2RP6r"
      },
      "execution_count": 23,
      "outputs": []
    },
    {
      "cell_type": "code",
      "source": [
        "model.save('w2v_dr.w2v')\n",
        "\n",
        "model=Word2Vec.load('w2v_dr.w2v')\n",
        "vocab = model.wv.index_to_key\n",
        "len(vocab)"
      ],
      "metadata": {
        "colab": {
          "base_uri": "https://localhost:8080/"
        },
        "id": "m2EkjI9WV1Tx",
        "outputId": "49966fee-9037-4124-bc08-85d2327807df"
      },
      "execution_count": 24,
      "outputs": [
        {
          "output_type": "execute_result",
          "data": {
            "text/plain": [
              "1375"
            ]
          },
          "metadata": {},
          "execution_count": 24
        }
      ]
    },
    {
      "cell_type": "code",
      "source": [
        "outdata=pd.DataFrame(model.wv.vectors)\n",
        "outdata.to_csv('word2vec_ratemds.tsv',sep='\\t',index=False,header=False)\n",
        "pd.DataFrame(model.wv.index_to_key).to_csv('word2vec_ratemds_words.tsv',sep='\\t',index=False,header=False)"
      ],
      "metadata": {
        "id": "TwpQ8FbWmp_O"
      },
      "execution_count": 39,
      "outputs": []
    },
    {
      "cell_type": "code",
      "source": [
        "model.wv.most_similar('smooth', topn=10)"
      ],
      "metadata": {
        "colab": {
          "base_uri": "https://localhost:8080/"
        },
        "id": "VbWV3Yp9V-_Q",
        "outputId": "9ff3df9d-76d1-4bf9-f305-67167983a0ae"
      },
      "execution_count": 25,
      "outputs": [
        {
          "output_type": "execute_result",
          "data": {
            "text/plain": [
              "[('soft', 0.6513921022415161),\n",
              " ('feeling', 0.5631524324417114),\n",
              " ('leaf', 0.5416674613952637),\n",
              " ('rejuvenated', 0.5048118829727173),\n",
              " ('clean', 0.4919344186782837),\n",
              " ('looking', 0.48878416419029236),\n",
              " ('great', 0.4862741529941559),\n",
              " ('renewed', 0.4746168553829193),\n",
              " ('glowy', 0.4729959964752197),\n",
              " ('lathered', 0.4642159044742584)]"
            ]
          },
          "metadata": {},
          "execution_count": 25
        }
      ]
    },
    {
      "cell_type": "code",
      "source": [
        "model.wv.most_similar('cheap', topn=10)"
      ],
      "metadata": {
        "colab": {
          "base_uri": "https://localhost:8080/"
        },
        "id": "foS1XSSSYWpU",
        "outputId": "8ffc071b-3314-4e13-d2fc-ce5973b0c02e"
      },
      "execution_count": 27,
      "outputs": [
        {
          "output_type": "execute_result",
          "data": {
            "text/plain": [
              "[('doubt', 0.4936646819114685),\n",
              " ('pricey', 0.46230578422546387),\n",
              " ('hassle', 0.45153021812438965),\n",
              " ('recommendation', 0.4510311484336853),\n",
              " ('replacement', 0.45067599415779114),\n",
              " ('pay', 0.4475680887699127),\n",
              " ('sell', 0.44373080134391785),\n",
              " ('overpriced', 0.4414990246295929),\n",
              " ('drug', 0.4393978416919708),\n",
              " ('tag', 0.43888795375823975)]"
            ]
          },
          "metadata": {},
          "execution_count": 27
        }
      ]
    },
    {
      "cell_type": "code",
      "source": [
        "model.wv.most_similar('herbal', topn=10)"
      ],
      "metadata": {
        "colab": {
          "base_uri": "https://localhost:8080/"
        },
        "id": "Cu5QZkzYYWwf",
        "outputId": "382c68f9-79d6-4135-e8ae-1facf2016f97"
      },
      "execution_count": 28,
      "outputs": [
        {
          "output_type": "execute_result",
          "data": {
            "text/plain": [
              "[('divine', 0.7995284199714661),\n",
              " ('citrus', 0.6289437413215637),\n",
              " ('lush', 0.568353533744812),\n",
              " ('smelling', 0.5432272553443909),\n",
              " ('food', 0.5343807935714722),\n",
              " ('tea', 0.53052818775177),\n",
              " ('allergic', 0.5271401405334473),\n",
              " ('grade', 0.5247587561607361),\n",
              " ('hair', 0.5072873830795288),\n",
              " ('tree', 0.494004487991333)]"
            ]
          },
          "metadata": {},
          "execution_count": 28
        }
      ]
    },
    {
      "cell_type": "code",
      "source": [
        "model.wv.most_similar('smell', topn=10)"
      ],
      "metadata": {
        "colab": {
          "base_uri": "https://localhost:8080/"
        },
        "id": "Q4SYOSTLlAbm",
        "outputId": "4920136f-1efb-4bf7-a5c9-3d2373dcd759"
      },
      "execution_count": 29,
      "outputs": [
        {
          "output_type": "execute_result",
          "data": {
            "text/plain": [
              "[('reminds', 0.5236154198646545),\n",
              " ('sphere', 0.5113282203674316),\n",
              " ('pleasant', 0.48257118463516235),\n",
              " ('overpowering', 0.47820329666137695),\n",
              " ('smelling', 0.4765167236328125),\n",
              " ('kinda', 0.4749721884727478),\n",
              " ('odd', 0.455933153629303),\n",
              " ('sticking', 0.4348635971546173),\n",
              " ('citrus', 0.4205692410469055),\n",
              " ('giving', 0.4114507734775543)]"
            ]
          },
          "metadata": {},
          "execution_count": 29
        }
      ]
    },
    {
      "cell_type": "code",
      "source": [
        "model.wv.most_similar('acne', topn=10)"
      ],
      "metadata": {
        "colab": {
          "base_uri": "https://localhost:8080/"
        },
        "id": "MH8wXSgVlHP4",
        "outputId": "83544609-5552-408d-d446-f2c6c1c201a3"
      },
      "execution_count": 30,
      "outputs": [
        {
          "output_type": "execute_result",
          "data": {
            "text/plain": [
              "[('hormonal', 0.6075305342674255),\n",
              " ('struggling', 0.564468264579773),\n",
              " ('adult', 0.5638186931610107),\n",
              " ('prone', 0.5598602890968323),\n",
              " ('scar', 0.5506152510643005),\n",
              " ('suffered', 0.5022419095039368),\n",
              " ('dealing', 0.49983787536621094),\n",
              " ('uneven', 0.49755778908729553),\n",
              " ('lighten', 0.4956566095352173),\n",
              " ('cystic', 0.4913373291492462)]"
            ]
          },
          "metadata": {},
          "execution_count": 30
        }
      ]
    },
    {
      "cell_type": "code",
      "source": [
        "model.wv.most_similar('dry', topn=10)"
      ],
      "metadata": {
        "colab": {
          "base_uri": "https://localhost:8080/"
        },
        "id": "0J7Nj9nKlmiI",
        "outputId": "753ba27c-372a-491a-b4e8-727cd1de41b0"
      },
      "execution_count": 31,
      "outputs": [
        {
          "output_type": "execute_result",
          "data": {
            "text/plain": [
              "[('zone', 0.5335835218429565),\n",
              " ('summer', 0.5229618549346924),\n",
              " ('tends', 0.5204784870147705),\n",
              " ('flakey', 0.5178025960922241),\n",
              " ('cold', 0.48047029972076416),\n",
              " ('cleanser', 0.47505369782447815),\n",
              " ('patch', 0.4653399884700775),\n",
              " ('oily', 0.4635457694530487),\n",
              " ('fall', 0.46009233593940735),\n",
              " ('t', 0.45917120575904846)]"
            ]
          },
          "metadata": {},
          "execution_count": 31
        }
      ]
    },
    {
      "cell_type": "code",
      "source": [
        "v_time = model.wv['time']"
      ],
      "metadata": {
        "id": "mSGHdB1gYgKJ"
      },
      "execution_count": 32,
      "outputs": []
    },
    {
      "cell_type": "code",
      "source": [
        "v_time"
      ],
      "metadata": {
        "colab": {
          "base_uri": "https://localhost:8080/"
        },
        "id": "kN1r8ZG0YgSz",
        "outputId": "ec6b7e4e-79ac-45f0-8597-393d9527c9e1"
      },
      "execution_count": 33,
      "outputs": [
        {
          "output_type": "execute_result",
          "data": {
            "text/plain": [
              "array([-2.01928258e-01,  2.54762381e-01,  4.22765464e-02,  3.78485650e-01,\n",
              "        3.25205624e-01, -1.85549408e-01, -8.09025392e-02, -5.41005284e-03,\n",
              "       -3.91937554e-01, -2.23091687e-03,  2.37277105e-01,  5.93509339e-02,\n",
              "        2.94198468e-02,  4.12206531e-01,  3.64330381e-01, -8.29424486e-02,\n",
              "        1.41016856e-01,  6.32244647e-01, -5.88633493e-02,  1.54567540e-01,\n",
              "       -1.04692444e-01,  4.08070087e-02, -2.26057783e-01,  1.91051548e-03,\n",
              "       -8.32311749e-01, -7.66872019e-02, -3.71907162e-03,  6.04426824e-02,\n",
              "       -3.26727420e-01,  2.84893900e-01, -1.74100529e-02, -2.11853132e-01,\n",
              "        1.07992329e-01, -1.18060283e-01, -1.25883028e-01,  4.45427597e-01,\n",
              "       -1.57202065e-01,  1.78880155e-01, -3.02102417e-01,  4.47809964e-01,\n",
              "       -2.58425742e-01,  7.01247305e-02, -6.16229028e-02, -1.95707247e-01,\n",
              "       -3.34783253e-04,  2.71953672e-01,  4.74596947e-01, -4.61636424e-01,\n",
              "        3.50323953e-02, -1.40656024e-01,  2.41618946e-01,  3.15565407e-01,\n",
              "       -3.10537089e-02, -9.33347717e-02, -1.49687052e-01,  2.79188782e-01,\n",
              "       -4.48800065e-02, -2.85813600e-01,  1.56026497e-01, -3.18828434e-01,\n",
              "       -4.31906134e-01, -4.61476892e-01, -2.19696507e-01,  3.31132144e-01,\n",
              "       -8.67136493e-02, -4.26352710e-01,  1.45822376e-01,  2.41203651e-01,\n",
              "        5.08146167e-01, -7.83911422e-02,  5.21155633e-02,  2.31031433e-01,\n",
              "        1.90547481e-02,  2.49489382e-01, -4.44187969e-01,  6.19342830e-03,\n",
              "       -1.97069831e-02, -2.76939571e-01,  1.51675969e-01,  1.21746004e-01,\n",
              "        6.57482624e-01, -5.54293068e-03, -1.43483534e-01, -2.22008809e-01,\n",
              "        1.29260540e-01,  4.75511327e-02,  5.34160137e-02,  1.08412787e-01,\n",
              "       -5.85853100e-01,  1.64205164e-01,  1.44528732e-01, -2.05823764e-01,\n",
              "        2.10536018e-01,  9.12815854e-02,  5.76549828e-01, -3.16457212e-01,\n",
              "        5.50806046e-01,  4.74898458e-01, -2.65888304e-01,  3.43234867e-01],\n",
              "      dtype=float32)"
            ]
          },
          "metadata": {},
          "execution_count": 33
        }
      ]
    },
    {
      "cell_type": "code",
      "source": [
        "model.wv.similarity('acne', 'smooth')"
      ],
      "metadata": {
        "colab": {
          "base_uri": "https://localhost:8080/"
        },
        "id": "lWufo6NdYnMA",
        "outputId": "08188c9e-dc96-4967-ef74-befdd0ff17b8"
      },
      "execution_count": 60,
      "outputs": [
        {
          "output_type": "execute_result",
          "data": {
            "text/plain": [
              "0.18292816"
            ]
          },
          "metadata": {},
          "execution_count": 60
        }
      ]
    },
    {
      "cell_type": "code",
      "source": [
        "v_acne = model.wv['acne']\n",
        "v_smooth= model.wv['smooth']\n",
        "import numpy\n",
        "numpy.dot(v_acne, v_smooth)/(numpy.linalg.norm(v_acne)* numpy.linalg.norm(v_smooth))\n"
      ],
      "metadata": {
        "colab": {
          "base_uri": "https://localhost:8080/"
        },
        "id": "LWjw48v7Ypht",
        "outputId": "ecc99c4e-63ed-49ea-c235-5257564e7791"
      },
      "execution_count": 58,
      "outputs": [
        {
          "output_type": "execute_result",
          "data": {
            "text/plain": [
              "0.18292814"
            ]
          },
          "metadata": {},
          "execution_count": 58
        }
      ]
    },
    {
      "cell_type": "code",
      "source": [
        "v_acne = model.wv['acne']\n",
        "v_scar= model.wv['scar']\n",
        "import numpy\n",
        "numpy.dot(v_acne, v_scar)/(numpy.linalg.norm(v_acne)* numpy.linalg.norm(v_scar))"
      ],
      "metadata": {
        "colab": {
          "base_uri": "https://localhost:8080/"
        },
        "id": "hjimnei29K1Z",
        "outputId": "f9cc6f0e-aef3-46d3-c95c-2bb2a0281534"
      },
      "execution_count": 59,
      "outputs": [
        {
          "output_type": "execute_result",
          "data": {
            "text/plain": [
              "0.55061525"
            ]
          },
          "metadata": {},
          "execution_count": 59
        }
      ]
    },
    {
      "cell_type": "code",
      "source": [
        "v_acne = model.wv['acne']\n",
        "v_healthy= model.wv['healthy']\n",
        "numpy.dot(v_acne, v_healthy)/(numpy.linalg.norm(v_acne)* numpy.linalg.norm(v_healthy))"
      ],
      "metadata": {
        "colab": {
          "base_uri": "https://localhost:8080/"
        },
        "id": "p9o6FoEVH2PT",
        "outputId": "2caddf0f-7854-469f-df0f-0aeeec9eda7d"
      },
      "execution_count": 70,
      "outputs": [
        {
          "output_type": "execute_result",
          "data": {
            "text/plain": [
              "0.021453235"
            ]
          },
          "metadata": {},
          "execution_count": 70
        }
      ]
    },
    {
      "cell_type": "code",
      "source": [
        "v_acne = model.wv['acne']\n",
        "v_smooth = model.wv['smooth']\n",
        "v_salicylic = model.wv['salicylic']\n",
        "v_scar = model.wv['scar']\n",
        "created_smooth = v_acne + v_salicylic\n",
        "created_scar = v_acne + v_salicylic\n",
        "numpy.dot(created_smooth, v_smooth)/(numpy.linalg.norm(created_smooth)* numpy.linalg.norm( v_smooth))\n"
      ],
      "metadata": {
        "colab": {
          "base_uri": "https://localhost:8080/"
        },
        "id": "0n679HZgY3__",
        "outputId": "06be8015-0750-42c8-8a92-e522b42317ad"
      },
      "execution_count": 57,
      "outputs": [
        {
          "output_type": "execute_result",
          "data": {
            "text/plain": [
              "0.21828108"
            ]
          },
          "metadata": {},
          "execution_count": 57
        }
      ]
    },
    {
      "cell_type": "code",
      "source": [
        "numpy.dot(created_scar, v_scar)/(numpy.linalg.norm(created_scar)* numpy.linalg.norm( v_scar))"
      ],
      "metadata": {
        "colab": {
          "base_uri": "https://localhost:8080/"
        },
        "id": "vmByFhHr3b_Z",
        "outputId": "e8865bdf-3e2b-4976-a966-91345679309d"
      },
      "execution_count": 56,
      "outputs": [
        {
          "output_type": "execute_result",
          "data": {
            "text/plain": [
              "0.53010076"
            ]
          },
          "metadata": {},
          "execution_count": 56
        }
      ]
    },
    {
      "cell_type": "code",
      "source": [
        "created_healthy = v_acne + v_salicylic\n",
        "numpy.dot(created_healthy, v_healthy)/(numpy.linalg.norm(created_healthy)* numpy.linalg.norm( v_healthy))"
      ],
      "metadata": {
        "colab": {
          "base_uri": "https://localhost:8080/"
        },
        "id": "MCCpTf00Im27",
        "outputId": "984bdacb-e4ec-4bb7-9e3e-6909e0f8cb92"
      },
      "execution_count": 72,
      "outputs": [
        {
          "output_type": "execute_result",
          "data": {
            "text/plain": [
              "0.106446415"
            ]
          },
          "metadata": {},
          "execution_count": 72
        }
      ]
    },
    {
      "cell_type": "code",
      "source": [
        "v_acne = model.wv['acne']\n",
        "v_smooth = model.wv['smooth']\n",
        "v_vitamin = model.wv['vitamin']\n",
        "v_scar = model.wv['scar']\n",
        "created_smooth = v_acne + v_vitamin\n",
        "\n",
        "numpy.dot(created_smooth, v_smooth)/(numpy.linalg.norm(created_smooth)* numpy.linalg.norm( v_smooth))\n"
      ],
      "metadata": {
        "colab": {
          "base_uri": "https://localhost:8080/"
        },
        "id": "L7OMmzDh8i8e",
        "outputId": "74416ecd-970a-42f6-bab0-7a0bc78c6266"
      },
      "execution_count": 61,
      "outputs": [
        {
          "output_type": "execute_result",
          "data": {
            "text/plain": [
              "0.2952657"
            ]
          },
          "metadata": {},
          "execution_count": 61
        }
      ]
    },
    {
      "cell_type": "code",
      "source": [
        "created_healthy = v_acne + v_vitamin\n",
        "numpy.dot(created_healthy, v_healthy)/(numpy.linalg.norm(created_healthy)* numpy.linalg.norm( v_healthy))"
      ],
      "metadata": {
        "colab": {
          "base_uri": "https://localhost:8080/"
        },
        "id": "DdHk1NVtIw85",
        "outputId": "5c41c122-049c-400d-e7fb-01040e7c84ff"
      },
      "execution_count": 73,
      "outputs": [
        {
          "output_type": "execute_result",
          "data": {
            "text/plain": [
              "0.06563923"
            ]
          },
          "metadata": {},
          "execution_count": 73
        }
      ]
    },
    {
      "cell_type": "code",
      "source": [
        "created_scar = v_acne + v_vitamin\n",
        "numpy.dot(created_scar, v_scar)/(numpy.linalg.norm(created_scar)* numpy.linalg.norm( v_scar))"
      ],
      "metadata": {
        "colab": {
          "base_uri": "https://localhost:8080/"
        },
        "id": "mL1H0IjH-Ndw",
        "outputId": "1178a65a-95b1-4978-95d9-1a9ca787ec5b"
      },
      "execution_count": 62,
      "outputs": [
        {
          "output_type": "execute_result",
          "data": {
            "text/plain": [
              "0.47145757"
            ]
          },
          "metadata": {},
          "execution_count": 62
        }
      ]
    },
    {
      "cell_type": "code",
      "source": [
        "v_acne = model.wv['acne']\n",
        "v_smooth = model.wv['smooth']\n",
        "v_lactic = model.wv['lactic']\n",
        "v_scar = model.wv['scar']\n",
        "v_healthy = model.wv['healthy']\n",
        "created_smooth = v_acne + v_lactic\n",
        "\n",
        "numpy.dot(created_smooth, v_smooth)/(numpy.linalg.norm(created_smooth)* numpy.linalg.norm( v_smooth))"
      ],
      "metadata": {
        "colab": {
          "base_uri": "https://localhost:8080/"
        },
        "id": "CjiAQs5DADN5",
        "outputId": "d100dcf9-993e-4347-fe51-57b34425a0f8"
      },
      "execution_count": 63,
      "outputs": [
        {
          "output_type": "execute_result",
          "data": {
            "text/plain": [
              "0.21564613"
            ]
          },
          "metadata": {},
          "execution_count": 63
        }
      ]
    },
    {
      "cell_type": "code",
      "source": [
        "created_healthy = v_acne + v_lactic\n",
        "numpy.dot(created_healthy, v_healthy)/(numpy.linalg.norm(created_healthy)* numpy.linalg.norm( v_healthy))"
      ],
      "metadata": {
        "colab": {
          "base_uri": "https://localhost:8080/"
        },
        "id": "97mYJkDRIIZ2",
        "outputId": "5eae2c17-1fbf-49ba-a20f-08e71606a307"
      },
      "execution_count": 71,
      "outputs": [
        {
          "output_type": "execute_result",
          "data": {
            "text/plain": [
              "0.05534291"
            ]
          },
          "metadata": {},
          "execution_count": 71
        }
      ]
    },
    {
      "cell_type": "code",
      "source": [
        "created_scar = v_acne + v_lactic\n",
        "numpy.dot(created_scar, v_scar)/(numpy.linalg.norm(created_scar)* numpy.linalg.norm( v_scar))"
      ],
      "metadata": {
        "colab": {
          "base_uri": "https://localhost:8080/"
        },
        "id": "WegbCB6bEJkz",
        "outputId": "fefd3107-b188-428e-e633-6a26f1d965db"
      },
      "execution_count": 77,
      "outputs": [
        {
          "output_type": "execute_result",
          "data": {
            "text/plain": [
              "0.4666556"
            ]
          },
          "metadata": {},
          "execution_count": 77
        }
      ]
    },
    {
      "cell_type": "code",
      "source": [
        "v_acne = model.wv['acne']\n",
        "v_smooth = model.wv['smooth']\n",
        "v_herbal = model.wv['herbal']\n",
        "v_scar = model.wv['scar']\n",
        "v_healthy = model.wv['healthy']\n",
        "created_smooth = v_acne + v_herbal\n",
        "\n",
        "numpy.dot(created_smooth, v_smooth)/(numpy.linalg.norm(created_smooth)* numpy.linalg.norm( v_smooth))\n"
      ],
      "metadata": {
        "colab": {
          "base_uri": "https://localhost:8080/"
        },
        "id": "0tzlbwEZE5MY",
        "outputId": "e3c0b578-9ba6-4539-ad32-10fa20f261ef"
      },
      "execution_count": 67,
      "outputs": [
        {
          "output_type": "execute_result",
          "data": {
            "text/plain": [
              "0.23659256"
            ]
          },
          "metadata": {},
          "execution_count": 67
        }
      ]
    },
    {
      "cell_type": "code",
      "source": [
        "\n",
        "created_scar = v_acne + v_herbal\n",
        "numpy.dot(created_scar, v_scar)/(numpy.linalg.norm(created_scar)* numpy.linalg.norm( v_scar))"
      ],
      "metadata": {
        "colab": {
          "base_uri": "https://localhost:8080/"
        },
        "id": "8hJW8e72HAMK",
        "outputId": "0c23cace-5148-47c9-888c-ea81e90b989d"
      },
      "execution_count": 68,
      "outputs": [
        {
          "output_type": "execute_result",
          "data": {
            "text/plain": [
              "0.37556463"
            ]
          },
          "metadata": {},
          "execution_count": 68
        }
      ]
    },
    {
      "cell_type": "code",
      "source": [
        "created_healthy = v_acne + v_herbal\n",
        "numpy.dot(created_healthy, v_healthy)/(numpy.linalg.norm(created_healthy)* numpy.linalg.norm( v_healthy))\n"
      ],
      "metadata": {
        "colab": {
          "base_uri": "https://localhost:8080/"
        },
        "id": "kD_3_C-KHGAE",
        "outputId": "fa3cc3ea-ec72-4e1a-bf7c-16d6423f1e98"
      },
      "execution_count": 69,
      "outputs": [
        {
          "output_type": "execute_result",
          "data": {
            "text/plain": [
              "0.18950157"
            ]
          },
          "metadata": {},
          "execution_count": 69
        }
      ]
    },
    {
      "cell_type": "code",
      "source": [],
      "metadata": {
        "id": "VNjM7RImHzWe"
      },
      "execution_count": 74,
      "outputs": []
    }
  ]
}